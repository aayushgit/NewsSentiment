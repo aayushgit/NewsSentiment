{
 "cells": [
  {
   "cell_type": "code",
   "execution_count": 56,
   "metadata": {},
   "outputs": [
    {
     "name": "stdout",
     "output_type": "stream",
     "text": [
      "Century\n"
     ]
    }
   ],
   "source": [
    "import re\n",
    "# news='Today Agriculture Development Bank proposed a plan for the ADB headquarters to be shifted.'\n",
    "news= 'Today Century Bank Limited proposed a plan for the CBD headquarters to be shifted.'\n",
    "regexp=re.compile(r'(Century\\sBank\\sLimited)|(CBD)')\n",
    "if regexp.search(news):\n",
    "  print ('Century')\n",
    "\n",
    "regexp=re.compile(r'(Century\\sBank\\sLimited)|(CBD)')\n",
    "if regexp.search(news):\n",
    "  print ('Century')\n"
   ]
  },
  {
   "cell_type": "code",
   "execution_count": null,
   "metadata": {
    "collapsed": true
   },
   "outputs": [],
   "source": []
  },
  {
   "cell_type": "code",
   "execution_count": null,
   "metadata": {
    "collapsed": true
   },
   "outputs": [],
   "source": []
  },
  {
   "cell_type": "code",
   "execution_count": null,
   "metadata": {
    "collapsed": true
   },
   "outputs": [],
   "source": []
  },
  {
   "cell_type": "code",
   "execution_count": null,
   "metadata": {
    "collapsed": true
   },
   "outputs": [],
   "source": []
  }
 ],
 "metadata": {
  "kernelspec": {
   "display_name": "Python 3",
   "language": "python",
   "name": "python3"
  },
  "language_info": {
   "codemirror_mode": {
    "name": "ipython",
    "version": 3
   },
   "file_extension": ".py",
   "mimetype": "text/x-python",
   "name": "python",
   "nbconvert_exporter": "python",
   "pygments_lexer": "ipython3",
   "version": "3.6.3"
  }
 },
 "nbformat": 4,
 "nbformat_minor": 2
}
